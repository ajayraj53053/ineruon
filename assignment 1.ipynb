{
 "cells": [
  {
   "cell_type": "code",
   "execution_count": null,
   "id": "7ec58be2",
   "metadata": {},
   "outputs": [],
   "source": [
    "1. In the below elements which of them are values or an expression? eg:- values can be integer or string and expressions will be mathematical operators.\n",
    "* \n",
    "'hello'\n",
    "-87.8\n",
    "- \n",
    "/ \n",
    "+\t\n",
    "6 \n",
    "ans: All the above"
   ]
  },
  {
   "cell_type": "code",
   "execution_count": null,
   "id": "d3602400",
   "metadata": {},
   "outputs": [],
   "source": [
    "2. What is the difference between string and variable?\n",
    "\n",
    "ans:string is a collection of character string is denoted as (str)\n",
    "    variable is creating to store a data it can enable to store all data type "
   ]
  },
  {
   "cell_type": "code",
   "execution_count": null,
   "id": "606c5ccb",
   "metadata": {},
   "outputs": [],
   "source": [
    " 3. Describe three different data types.\n",
    "    ans:integer-integer is a numeric value like 1,2,3.....\n",
    "        string- string is a collection of character like \"ajay\",'raj'\n",
    "        character-character is a one word or letter in alphabet like a,s,d\n",
    "        float - float is a decimal number like 23.3,23.3"
   ]
  },
  {
   "cell_type": "code",
   "execution_count": null,
   "id": "4ec5dd38",
   "metadata": {},
   "outputs": [],
   "source": [
    "4. What is an expression made up of? What do all expressions do?\n",
    "ans: expression is an combination of variable,value,opertor and expression is need to be evaluated\n",
    "    interperter evaluate the expression and display the result"
   ]
  },
  {
   "cell_type": "code",
   "execution_count": null,
   "id": "0fa2fb3f",
   "metadata": {},
   "outputs": [],
   "source": [
    "5. This assignment statements, like spam = 10. What is the difference between an expression and a statement?\n",
    "ans: this expression is used  to store right side value int the left side variable\n",
    "    this statement is assume the value 10 is equal to the spam"
   ]
  },
  {
   "cell_type": "code",
   "execution_count": null,
   "id": "259332fa",
   "metadata": {},
   "outputs": [],
   "source": [
    "6. After running the following code, what does the variable bacon contain?\n",
    "bacon = 22\n",
    "bacon + 1\n",
    "ans:23"
   ]
  },
  {
   "cell_type": "code",
   "execution_count": null,
   "id": "fe66c88a",
   "metadata": {},
   "outputs": [],
   "source": [
    "7. What should the values of the following two terms be?\n",
    "'spam' + 'spamspam'\n",
    "'spam' * 3\n",
    "ans:spamspamspam\n",
    "    spamspamspam"
   ]
  },
  {
   "cell_type": "code",
   "execution_count": null,
   "id": "cabaa588",
   "metadata": {},
   "outputs": [],
   "source": [
    "8. Why is eggs a valid variable name while 100 is invalid?\n",
    "ans: because ,we cannot define the integer as a varible name\n",
    "    eggs is a valid varible name it is an alphabetic word"
   ]
  },
  {
   "cell_type": "code",
   "execution_count": null,
   "id": "29550b95",
   "metadata": {},
   "outputs": [],
   "source": [
    "9. What three functions can be used to get the integer, floating-point number, or string version of a value?\n",
    "ans:int() -integer\n",
    "    float()-float\n",
    "    str()-string"
   ]
  },
  {
   "cell_type": "code",
   "execution_count": null,
   "id": "96560e08",
   "metadata": {},
   "outputs": [],
   "source": [
    "10. Why does this expression cause an error? How can you fix it?\n",
    "'I have eaten ' + 99 + ' burritos.'\n",
    "ans: integer cannot append with string\n",
    "    \"i have eaten\"+\"99\"+\"burritos.\""
   ]
  }
 ],
 "metadata": {
  "kernelspec": {
   "display_name": "Python 3 (ipykernel)",
   "language": "python",
   "name": "python3"
  },
  "language_info": {
   "codemirror_mode": {
    "name": "ipython",
    "version": 3
   },
   "file_extension": ".py",
   "mimetype": "text/x-python",
   "name": "python",
   "nbconvert_exporter": "python",
   "pygments_lexer": "ipython3",
   "version": "3.9.7"
  }
 },
 "nbformat": 4,
 "nbformat_minor": 5
}
