{
 "cells": [
  {
   "cell_type": "code",
   "execution_count": null,
   "id": "c0662e57",
   "metadata": {},
   "outputs": [],
   "source": [
    "1.\tWrite a Python program to convert kilometers to miles?\n",
    "2.\tWrite a Python program to convert Celsius to Fahrenheit?\n",
    "3.\tWrite a Python program to display calendar?\n",
    "4.\tWrite a Python program to solve quadratic equation?\n",
    "5.\tWrite a Python program to swap two variables without temp variable?\n"
   ]
  },
  {
   "cell_type": "code",
   "execution_count": null,
   "id": "016a86cb",
   "metadata": {},
   "outputs": [],
   "source": [
    "1.\tWrite a Python program to convert kilometers to miles?\n",
    "ans:kilometer=int(input(\"enter the kilometer\"))\n",
    "    miles=kilometer*1.62\n",
    "    print(\"The given kilometer is {0} is convert into {1} miles\" .format(kilometer,miles))"
   ]
  },
  {
   "cell_type": "code",
   "execution_count": null,
   "id": "97192cca",
   "metadata": {},
   "outputs": [],
   "source": [
    "2.\tWrite a Python program to convert Celsius to Fahrenheit?\n",
    "ans:celsius=int(input(\"enter the celsius\"))\n",
    "    fahrenheit=(celsius*9/5)+32\n",
    "    print(\"{0} celsius is equal to {1} fahrenheit \".format(celsius,fahrenheit))"
   ]
  },
  {
   "cell_type": "code",
   "execution_count": null,
   "id": "3d1bb511",
   "metadata": {},
   "outputs": [],
   "source": [
    "3.\tWrite a Python program to display calendar?\n",
    "ans:import calendar\n",
    "    year=2021\n",
    "    month=12\n",
    "    print(calendar.month(year,month))"
   ]
  },
  {
   "cell_type": "code",
   "execution_count": null,
   "id": "874af9b0",
   "metadata": {},
   "outputs": [],
   "source": [
    "4.\tWrite a Python program to solve quadratic equation?\n",
    "ans:\n",
    "import cmath  \n",
    "a = 1\n",
    "b = 4\n",
    "c = 2\n",
    "dis = (b**2) - (4 * a*c)\n",
    "ans1 = (-b-cmath.sqrt(dis))/(2 * a)\n",
    "ans2 = (-b + cmath.sqrt(dis))/(2 * a)\n",
    "print('The roots are')\n",
    "print(ans1)\n",
    "print(ans2)"
   ]
  },
  {
   "cell_type": "code",
   "execution_count": null,
   "id": "f1335d96",
   "metadata": {},
   "outputs": [],
   "source": [
    "5.\tWrite a Python program to swap two variables without temp variable?\n",
    "ans:x=21\n",
    "    y=34\n",
    "    x,y=y,x\n",
    "    print(x,y)\n"
   ]
  },
  {
   "cell_type": "code",
   "execution_count": null,
   "id": "f0a7e9fe",
   "metadata": {},
   "outputs": [],
   "source": []
  }
 ],
 "metadata": {
  "kernelspec": {
   "display_name": "Python 3 (ipykernel)",
   "language": "python",
   "name": "python3"
  },
  "language_info": {
   "codemirror_mode": {
    "name": "ipython",
    "version": 3
   },
   "file_extension": ".py",
   "mimetype": "text/x-python",
   "name": "python",
   "nbconvert_exporter": "python",
   "pygments_lexer": "ipython3",
   "version": "3.9.7"
  }
 },
 "nbformat": 4,
 "nbformat_minor": 5
}
