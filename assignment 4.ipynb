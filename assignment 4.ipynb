{
 "cells": [
  {
   "cell_type": "code",
   "execution_count": null,
   "id": "8b5aacf8",
   "metadata": {},
   "outputs": [],
   "source": [
    "1. What exactly is []?\n",
    "2. In a list of values stored in a variable called spam, how would you assign the value 'hello' as the third value? (Assume [2, 4, 6, 8, 10] are in spam.)\n",
    "Let's pretend the spam includes the list ['a', 'b', 'c', 'd'] for the next three queries.\n",
    "3. What is the value of spam[int(int('3' * 2) / 11)]?\n",
    "4. What is the value of spam[-1]?\n",
    "5. What is the value of spam[:2]?\n",
    "Let's pretend bacon has the list [3.14, 'cat,' 11, 'cat,' True] for the next three questions.\n",
    "6. What is the value of bacon.index('cat')?\n",
    "7. How does bacon.append(99) change the look of the list value in bacon?\n",
    "8. How does bacon.remove('cat') change the look of the list in bacon?\n",
    "9. What are the list concatenation and list replication operators?\n",
    "10. What is difference between the list methods append() and insert()?\n",
    "11. What are the two methods for removing items from a list?\n",
    "12. Describe how list values and string values are identical.\n",
    "13. What's the difference between tuples and lists?\n",
    "14. How do you type a tuple value that only contains the integer 42?\n",
    "15. How do you get a list value's tuple form? How do you get a tuple value's list form?\n",
    "16. Variables that \"contain\" list values are not necessarily lists themselves. Instead, what do they contain?\n",
    "17. How do you distinguish between copy.copy() and copy.deepcopy()?\n",
    "\n"
   ]
  },
  {
   "cell_type": "code",
   "execution_count": null,
   "id": "216b43f1",
   "metadata": {},
   "outputs": [],
   "source": [
    "1. What exactly is []?\n",
    "ans: The symbol [] is denoted as list .it can store all data type of variable\n",
    "    for example integer,string,character"
   ]
  },
  {
   "cell_type": "code",
   "execution_count": null,
   "id": "aee36bd6",
   "metadata": {},
   "outputs": [],
   "source": [
    "2. In a list of values stored in a variable called spam, how would you assign the value 'hello' as the third value? \n",
    "ans:spam=[1,2,43.3,54,6,6]\n",
    "    spam[2]=\"hello\"\n",
    "    print(spam)"
   ]
  },
  {
   "cell_type": "code",
   "execution_count": null,
   "id": "bd9c4771",
   "metadata": {},
   "outputs": [],
   "source": [
    "3. What is the value of spam[int(int('3' * 2) / 11)]?\n",
    "ans:the value of spam is 3"
   ]
  },
  {
   "cell_type": "code",
   "execution_count": null,
   "id": "5d59d0b8",
   "metadata": {},
   "outputs": [],
   "source": [
    "4. What is the value of spam[-1]?\n",
    "ans:the value of spam[-1] is d"
   ]
  },
  {
   "cell_type": "code",
   "execution_count": null,
   "id": "04e16c2f",
   "metadata": {},
   "outputs": [],
   "source": [
    "5. What is the value of spam[:2]?\n",
    "ans:the value of spam[2] is c"
   ]
  },
  {
   "cell_type": "code",
   "execution_count": null,
   "id": "f7e9a83e",
   "metadata": {},
   "outputs": [],
   "source": [
    "6. What is the value of bacon.index('cat')?\n",
    "ans: the value of bacon.index('cat') is 1"
   ]
  },
  {
   "cell_type": "code",
   "execution_count": null,
   "id": "5d27ed0f",
   "metadata": {},
   "outputs": [],
   "source": [
    "7. How does bacon.append(99) change the look of the list value in bacon?\n",
    "ans: [3.14, 'cat,' 11, 'cat,' True,99]"
   ]
  },
  {
   "cell_type": "code",
   "execution_count": null,
   "id": "7fc82e92",
   "metadata": {},
   "outputs": [],
   "source": [
    "8. How does bacon.remove('cat') change the look of the list in bacon?\n",
    "ans: [3.14,  11, 'cat,' True]"
   ]
  },
  {
   "cell_type": "code",
   "execution_count": null,
   "id": "167d3b00",
   "metadata": {},
   "outputs": [],
   "source": [
    "\n",
    "9. What are the list concatenation and list replication operators?\n",
    "ans:The operator for list concatenation is + and the operator for replication is *"
   ]
  },
  {
   "cell_type": "code",
   "execution_count": null,
   "id": "1e84b3c1",
   "metadata": {},
   "outputs": [],
   "source": [
    "10. What is difference between the list methods append() and insert()?\n",
    "ans: The difference bewteen append() and insert()\n",
    "    append method is append the value at the end of the list\n",
    "    insert method is insert the value at the any palce of the list"
   ]
  },
  {
   "cell_type": "code",
   "execution_count": null,
   "id": "8574a4f4",
   "metadata": {},
   "outputs": [],
   "source": [
    "11. What are the two methods for removing items from a list?\n",
    "ans:one of the method is remove()\n",
    "    and the another one is pop()"
   ]
  },
  {
   "cell_type": "code",
   "execution_count": null,
   "id": "582b11ec",
   "metadata": {},
   "outputs": [],
   "source": [
    "12. Describe how list values and string values are identical.\n",
    "ans: list can store any type of data type and list is mutable\n",
    "    string can store only string data type and  string is immutable"
   ]
  },
  {
   "cell_type": "code",
   "execution_count": null,
   "id": "b680c468",
   "metadata": {},
   "outputs": [],
   "source": [
    "13. What's the difference between tuples and lists?\n",
    "ans: list is mutable and the tuples is immutable\n",
    "    list of the value can be change\n",
    "    tuples of the value cannot change "
   ]
  },
  {
   "cell_type": "code",
   "execution_count": null,
   "id": "8a8e3b86",
   "metadata": {},
   "outputs": [],
   "source": [
    "14. How do you type a tuple value that only contains the integer 42?\n",
    "ans:tuple=(42)"
   ]
  },
  {
   "cell_type": "code",
   "execution_count": null,
   "id": "ae561243",
   "metadata": {},
   "outputs": [],
   "source": [
    "15. How do you get a list value's tuple form? How do you get a tuple value's list form?\n",
    "ans:tuple into list \n",
    "    l=(1,2,3,4,54)\n",
    "    list(l)\n",
    "    list into tuple\n",
    "    l=[1,2,3,4,54]\n",
    "    tuple(l)\n",
    "    \n",
    "    "
   ]
  },
  {
   "cell_type": "code",
   "execution_count": null,
   "id": "1db34d0f",
   "metadata": {},
   "outputs": [],
   "source": [
    "16. How do you distinguish between copy.copy() and copy.deepcopy()?\n",
    "ans:Shallow Copy reflects changes made to the new/copied object in the original object. Deep copy doesn't reflect changes made to the new/copied object in the original object"
   ]
  }
 ],
 "metadata": {
  "kernelspec": {
   "display_name": "Python 3 (ipykernel)",
   "language": "python",
   "name": "python3"
  },
  "language_info": {
   "codemirror_mode": {
    "name": "ipython",
    "version": 3
   },
   "file_extension": ".py",
   "mimetype": "text/x-python",
   "name": "python",
   "nbconvert_exporter": "python",
   "pygments_lexer": "ipython3",
   "version": "3.9.7"
  }
 },
 "nbformat": 4,
 "nbformat_minor": 5
}
