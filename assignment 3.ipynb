{
 "cells": [
  {
   "cell_type": "code",
   "execution_count": null,
   "id": "9e477a0c",
   "metadata": {},
   "outputs": [],
   "source": [
    "1. Why are functions advantageous to have in your programs?\n",
    "ans:if i create a one function it is used to increase the reusebality of code\n",
    "    by reusability working time is less"
   ]
  },
  {
   "cell_type": "code",
   "execution_count": null,
   "id": "5c70a181",
   "metadata": {},
   "outputs": [],
   "source": [
    "2. When does the code in a function run: when it's specified or when it's called?\n",
    "    ans:when the function is called then the code is execute in the program"
   ]
  },
  {
   "cell_type": "code",
   "execution_count": null,
   "id": "5709393f",
   "metadata": {},
   "outputs": [],
   "source": [
    "3. What statement creates a function?\n",
    "ans:function keyword(def) is initialized this is a function and we declare the name for the function \n",
    "    and wirte the code block. after creating a function if we want to call the function its call function \n",
    "    name"
   ]
  },
  {
   "cell_type": "code",
   "execution_count": null,
   "id": "bf4f2b40",
   "metadata": {},
   "outputs": [],
   "source": [
    "4. What is the difference between a function and a function call?\n",
    "ans:, A function is procedure to achieve a particular result while function call is using this function to achive that task."
   ]
  },
  {
   "cell_type": "code",
   "execution_count": null,
   "id": "b905342d",
   "metadata": {},
   "outputs": [],
   "source": [
    "5. How many global scopes are there in a Python program? How many local scopes?\n",
    "ans: one gobal scope\n",
    "    one local scope"
   ]
  },
  {
   "cell_type": "code",
   "execution_count": null,
   "id": "1ff4b0ac",
   "metadata": {},
   "outputs": [],
   "source": [
    "6. What happens to variables in a local scope when the function call returns?\n",
    "ans: the local variables disappear after the function returns.\n"
   ]
  },
  {
   "cell_type": "code",
   "execution_count": null,
   "id": "6b8dbdaa",
   "metadata": {},
   "outputs": [],
   "source": [
    "7. What is the concept of a return value? Is it possible to have a return value in an expression?\n",
    "ans:A return is a value that a function returns to the calling script or function when it completes its task\n",
    "yes it is possible"
   ]
  },
  {
   "cell_type": "code",
   "execution_count": null,
   "id": "e8518266",
   "metadata": {},
   "outputs": [],
   "source": [
    "8. If a function does not have a return statement, what is the return value of a call to that function\n",
    "ans: none"
   ]
  },
  {
   "cell_type": "code",
   "execution_count": null,
   "id": "a7049820",
   "metadata": {},
   "outputs": [],
   "source": [
    "9. How do you make a function variable refer to the global variable?\n",
    "ans:use the global keyword to declare which variables are global."
   ]
  },
  {
   "cell_type": "code",
   "execution_count": null,
   "id": "efaed312",
   "metadata": {},
   "outputs": [],
   "source": [
    "10. What is the data type of None?\n",
    "ans:none type"
   ]
  },
  {
   "cell_type": "code",
   "execution_count": null,
   "id": "f32bd4d2",
   "metadata": {},
   "outputs": [],
   "source": [
    "11. What does the sentence import areallyourpetsnamederic do?\n"
   ]
  },
  {
   "cell_type": "code",
   "execution_count": null,
   "id": "82e9f2fb",
   "metadata": {},
   "outputs": [],
   "source": [
    "12. If you had a bacon() feature in a spam module, what would you call it after importing spam?\n",
    "ans:spam.bacon()"
   ]
  },
  {
   "cell_type": "code",
   "execution_count": null,
   "id": "1ad29708",
   "metadata": {},
   "outputs": [],
   "source": [
    "13. What can you do to save a programme from crashing if it encounters an error?\n",
    "ans: first of all notice the error occured in the programm and the error is clarified then the programm is saved "
   ]
  },
  {
   "cell_type": "code",
   "execution_count": null,
   "id": "f31c095b",
   "metadata": {},
   "outputs": [],
   "source": [
    "14. What is the purpose of the try clause? What is the purpose of the except clause?\n",
    "ans: both try and except case is used to clear the exception in the program\n",
    "    try case is test the program and except case is identifi the error to user"
   ]
  },
  {
   "cell_type": "code",
   "execution_count": null,
   "id": "665135e8",
   "metadata": {},
   "outputs": [],
   "source": []
  },
  {
   "cell_type": "code",
   "execution_count": null,
   "id": "52cf9742",
   "metadata": {},
   "outputs": [],
   "source": []
  },
  {
   "cell_type": "code",
   "execution_count": null,
   "id": "d5168c59",
   "metadata": {},
   "outputs": [],
   "source": []
  }
 ],
 "metadata": {
  "kernelspec": {
   "display_name": "Python 3 (ipykernel)",
   "language": "python",
   "name": "python3"
  },
  "language_info": {
   "codemirror_mode": {
    "name": "ipython",
    "version": 3
   },
   "file_extension": ".py",
   "mimetype": "text/x-python",
   "name": "python",
   "nbconvert_exporter": "python",
   "pygments_lexer": "ipython3",
   "version": "3.9.7"
  }
 },
 "nbformat": 4,
 "nbformat_minor": 5
}
