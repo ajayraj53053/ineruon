{
 "cells": [
  {
   "cell_type": "code",
   "execution_count": null,
   "id": "5b1cf039",
   "metadata": {},
   "outputs": [],
   "source": [
    "1.\tWrite a Python program to print \"Hello Python\"?\n",
    "print(\"Hello python\")"
   ]
  },
  {
   "cell_type": "code",
   "execution_count": null,
   "id": "bd2ba569",
   "metadata": {},
   "outputs": [],
   "source": [
    "2.\tWrite a Python program to do arithmetical operations addition and division.?\n",
    "ans:a=int(input(\"enter the number\")) \n",
    "    b=int(input(\"enter the number\"))\n",
    "    addition=a+b\n",
    "    print(addition)\n",
    "    division=a/b\n",
    "    print(division)"
   ]
  },
  {
   "cell_type": "code",
   "execution_count": null,
   "id": "31b4b8ed",
   "metadata": {},
   "outputs": [],
   "source": [
    "3.\tWrite a Python program to find the area of a triangle?\n",
    "ans:height=int(input(\"enter the height of the triangle\"))\n",
    "    base=int(input('enter the base of the triangle'))\n",
    "    area=(height*base)/2\n",
    "    print(area)"
   ]
  },
  {
   "cell_type": "code",
   "execution_count": null,
   "id": "4954b118",
   "metadata": {},
   "outputs": [],
   "source": [
    "4.\tWrite a Python program to swap two variables?\n",
    "ans:x=2\n",
    "    y=23\n",
    "    temp=x\n",
    "    x=y\n",
    "    y=temp\n",
    "    print(x)\n",
    "    print(y)"
   ]
  },
  {
   "cell_type": "code",
   "execution_count": null,
   "id": "1ea2dedc",
   "metadata": {},
   "outputs": [],
   "source": [
    "5.\tWrite a Python program to generate a random number?\n",
    "ans:import random\n",
    "    print(random.randint(1,9))"
   ]
  },
  {
   "cell_type": "code",
   "execution_count": null,
   "id": "ef6b3769",
   "metadata": {},
   "outputs": [],
   "source": []
  }
 ],
 "metadata": {
  "kernelspec": {
   "display_name": "Python 3 (ipykernel)",
   "language": "python",
   "name": "python3"
  },
  "language_info": {
   "codemirror_mode": {
    "name": "ipython",
    "version": 3
   },
   "file_extension": ".py",
   "mimetype": "text/x-python",
   "name": "python",
   "nbconvert_exporter": "python",
   "pygments_lexer": "ipython3",
   "version": "3.9.7"
  }
 },
 "nbformat": 4,
 "nbformat_minor": 5
}
