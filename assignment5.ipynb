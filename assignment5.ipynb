{
 "cells": [
  {
   "cell_type": "code",
   "execution_count": null,
   "id": "2607e54a",
   "metadata": {},
   "outputs": [],
   "source": [
    "1. What does an empty dictionary's code look like?\n",
    "ans:To create an empty dictionary, the dictionary should be set to {}."
   ]
  },
  {
   "cell_type": "code",
   "execution_count": null,
   "id": "3ce446ef",
   "metadata": {},
   "outputs": [],
   "source": [
    "2. What is the value of a dictionary value with the key 'foo' and the value 42?\n",
    "ans:a={'foo':42}"
   ]
  },
  {
   "cell_type": "code",
   "execution_count": null,
   "id": "a8ab0196",
   "metadata": {},
   "outputs": [],
   "source": [
    "3. What is the most significant distinction between a dictionary and a list?\n",
    "ans: list can store value by the data type dictionary can store a value by the key and value "
   ]
  },
  {
   "cell_type": "code",
   "execution_count": null,
   "id": "6070cec4",
   "metadata": {},
   "outputs": [],
   "source": [
    "4. What happens if you try to access spam['foo'] if spam is {'bar': 100}?\n",
    "ans; it gives  keyerror"
   ]
  },
  {
   "cell_type": "code",
   "execution_count": null,
   "id": "084e0a7f",
   "metadata": {},
   "outputs": [],
   "source": [
    "5. If a dictionary is stored in spam, what is the difference between the expressions 'cat' in spam and 'cat' in spam.keys()?\n",
    "ans:there is no difference both expression gives true "
   ]
  },
  {
   "cell_type": "code",
   "execution_count": null,
   "id": "7435dfbf",
   "metadata": {},
   "outputs": [],
   "source": [
    "6. If a dictionary is stored in spam, what is the difference between the expressions 'cat' in spam and 'cat' in spam.values()?\n",
    "ans:cat in spam is gives the true output,cat in spam.values()  is gives the flase"
   ]
  },
  {
   "cell_type": "code",
   "execution_count": null,
   "id": "5910ac24",
   "metadata": {},
   "outputs": [],
   "source": [
    "7. What is a shortcut for the following code?\n",
    "if 'color' not in spam:\n",
    "spam['color'] = 'black'"
   ]
  },
  {
   "cell_type": "code",
   "execution_count": null,
   "id": "b33400f0",
   "metadata": {},
   "outputs": [],
   "source": [
    "8. How do you \"pretty print\" dictionary values using which module and function?\n",
    "ans:Use pprint() to Pretty Print a Dictionary in PythonThis module also supports pretty-printing dictionary.\n",
    "    Within the pprint module there is a function with the same name pprint() , which is the function used to pretty-print the given string or object"
   ]
  }
 ],
 "metadata": {
  "kernelspec": {
   "display_name": "Python 3 (ipykernel)",
   "language": "python",
   "name": "python3"
  },
  "language_info": {
   "codemirror_mode": {
    "name": "ipython",
    "version": 3
   },
   "file_extension": ".py",
   "mimetype": "text/x-python",
   "name": "python",
   "nbconvert_exporter": "python",
   "pygments_lexer": "ipython3",
   "version": "3.9.7"
  }
 },
 "nbformat": 4,
 "nbformat_minor": 5
}
