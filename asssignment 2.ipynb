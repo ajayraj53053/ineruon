{
 "cells": [
  {
   "cell_type": "code",
   "execution_count": null,
   "id": "7b824d04",
   "metadata": {},
   "outputs": [],
   "source": [
    "1.What are the two values of the Boolean data type? How do you write them?\n",
    "ans:True & False\n",
    "    it defined by boolean"
   ]
  },
  {
   "cell_type": "code",
   "execution_count": null,
   "id": "549e4861",
   "metadata": {},
   "outputs": [],
   "source": [
    "2. What are the three different types of Boolean operators?\n",
    "ans:or\n",
    "    not\n",
    "    and"
   ]
  },
  {
   "cell_type": "code",
   "execution_count": null,
   "id": "a125a29a",
   "metadata": {},
   "outputs": [],
   "source": [
    "3. Make a list of each Boolean operator's truth tables (i.e. every possible combination of Boolean values for the operator and what it evaluate )\n",
    "ans:or\n",
    "    [1,1]=1\n",
    "    [1,0]=1\n",
    "    [0,1]=1\n",
    "    [0,0]=0\n",
    "    and\n",
    "    [1,1]=1\n",
    "    [1,0]=0\n",
    "    [0,1]=0\n",
    "    [0,0]=0\n",
    "    not\n",
    "    [1]=0\n",
    "    [0]=1\n",
    "    "
   ]
  },
  {
   "cell_type": "code",
   "execution_count": null,
   "id": "ec6730a6",
   "metadata": {},
   "outputs": [],
   "source": [
    "4. What are the values of the following expressions?\n",
    "(5 > 4) and (3 == 5)ans:0\n",
    "not (5 > 4)ans:0\n",
    "(5 > 4) or (3 == 5)ans:1\n",
    "not ((5 > 4) or (3 == 5))ans:0\n",
    "(True and True) and (True == False)ans:0\n",
    "(not False) or (not True)ans:1"
   ]
  },
  {
   "cell_type": "code",
   "execution_count": null,
   "id": "63deac77",
   "metadata": {},
   "outputs": [],
   "source": [
    "5. What are the six comparison operators?\n",
    "ans:>\n",
    "    <\n",
    "    ==\n",
    "    >=\n",
    "    <=\n",
    "    !="
   ]
  },
  {
   "cell_type": "code",
   "execution_count": null,
   "id": "7715f6e7",
   "metadata": {},
   "outputs": [],
   "source": [
    "6. How do you tell the difference between the equal to and assignment operators?Describe a condition and when you would use one.\n",
    "ans:'='operator is used to assign the value to the right side variable.\"==\" operator is used to check whether the value is equal to other value\n",
    "    "
   ]
  },
  {
   "cell_type": "code",
   "execution_count": null,
   "id": "283a9435",
   "metadata": {},
   "outputs": [],
   "source": [
    "7. Identify the three blocks in this code:\n",
    "spam = 0\n",
    "if spam == 10:\n",
    "     print('eggs')\n",
    "if spam > 5:\n",
    "    print('bacon')\n",
    "else:\n",
    "    print('ham')\n",
    "    print('spam')\n",
    "    print('spam')"
   ]
  },
  {
   "cell_type": "code",
   "execution_count": null,
   "id": "05f0cda0",
   "metadata": {},
   "outputs": [],
   "source": [
    "8. Write code that prints Hello if 1 is stored in spam, prints Howdy if 2 is stored in spam, and prints Greetings! if anything else is stored in spam.\n",
    "ans:spam=int(input(\"enter the value\" ))\n",
    "    if spam==1:\n",
    "        print(\"hello\")\n",
    "    if spam==2:\n",
    "        print(\"howdy\")\n",
    "    else:\n",
    "        print(\"greeting\")"
   ]
  },
  {
   "cell_type": "code",
   "execution_count": null,
   "id": "9657b78a",
   "metadata": {},
   "outputs": [],
   "source": [
    "9.If your programme is stuck in an endless loop, what keys you’ll press?\n",
    "ans:ctrl+c"
   ]
  },
  {
   "cell_type": "code",
   "execution_count": null,
   "id": "d9ea3bcd",
   "metadata": {},
   "outputs": [],
   "source": [
    "10. How can you tell the difference between break and continue?\n",
    "ans:break condition is used in switch condition and also used in while,do while, \n",
    "    continue condition is not  used switch condition and used in while ,do while "
   ]
  },
  {
   "cell_type": "code",
   "execution_count": null,
   "id": "58c74faf",
   "metadata": {},
   "outputs": [],
   "source": [
    "11. In a for loop, what is the difference between range(10), range(0, 10), and range(0, 10, 1)?\n",
    "ans:three range value give the same output the only difference is giving of input is difference is different "
   ]
  },
  {
   "cell_type": "code",
   "execution_count": null,
   "id": "a0248fd7",
   "metadata": {},
   "outputs": [],
   "source": [
    "12. Write a short program that prints the numbers 1 to 10 using a for loop. Then write an equivalent program that prints the numbers 1 to 10 using a while loop.\n",
    "ans:for loop\n",
    "    for i in range(1,11):\n",
    "        print(i)\n",
    "        \n",
    "        \n",
    "    while loop\n",
    "    i=1\n",
    "    while(i<=10):\n",
    "        print(i)\n",
    "        i++"
   ]
  },
  {
   "cell_type": "code",
   "execution_count": null,
   "id": "5c96420e",
   "metadata": {},
   "outputs": [],
   "source": [
    "13. If you had a function named bacon() inside a module named spam, how would you call it after importing spam?\n",
    "ans:spam.bacon()"
   ]
  }
 ],
 "metadata": {
  "kernelspec": {
   "display_name": "Python 3 (ipykernel)",
   "language": "python",
   "name": "python3"
  },
  "language_info": {
   "codemirror_mode": {
    "name": "ipython",
    "version": 3
   },
   "file_extension": ".py",
   "mimetype": "text/x-python",
   "name": "python",
   "nbconvert_exporter": "python",
   "pygments_lexer": "ipython3",
   "version": "3.9.7"
  }
 },
 "nbformat": 4,
 "nbformat_minor": 5
}
